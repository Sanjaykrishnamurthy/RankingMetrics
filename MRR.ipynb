{
 "cells": [
  {
   "cell_type": "code",
   "execution_count": 1,
   "metadata": {},
   "outputs": [],
   "source": [
    "import tensorflow as tf"
   ]
  },
  {
   "cell_type": "code",
   "execution_count": 2,
   "metadata": {},
   "outputs": [],
   "source": [
    "def mrr_metric(predictions, labels, k=2):\n",
    "    \"\"\"\n",
    "    Evaluates the model for MRR@K scores.\n",
    "\n",
    "    Args:\n",
    "        logits : numpy or tensor. The predicted logit for the next items.\n",
    "        targets: numpy or tensor. actual target indices.\n",
    "\n",
    "    Returns:\n",
    "        mrr (float): numpy. the mrr score\n",
    "    \"\"\"\n",
    "    k = predictions.get_shape().as_list()[-1]\n",
    "    _, r = tf.nn.top_k(predictions, k)\n",
    "\n",
    "    get_ranked_indicies = tf.expand_dims(tf.where(tf.equal(tf.cast(r,tf.int64),labels))[:,1],1)\n",
    "\n",
    "    rr = 1/(get_ranked_indicies+1)\n",
    "    return tf.math.reduce_mean(rr).numpy()"
   ]
  },
  {
   "cell_type": "code",
   "execution_count": 3,
   "metadata": {},
   "outputs": [
    {
     "data": {
      "text/plain": [
       "0.26666666666666666"
      ]
     },
     "execution_count": 3,
     "metadata": {},
     "output_type": "execute_result"
    }
   ],
   "source": [
    "retrieved_item_prob = tf.constant([[0.1,0.3,0.2,0.12,0.18,0.6], [0.1,0.3,0.2,0.12,0.18,0.6]], dtype=tf.float32)\n",
    "relevant_item_position = targets= tf.constant([[3],[2]], dtype=tf.int64)\n",
    "mrr_metric(retrieved_item_prob, relevant_item_position, k=6)"
   ]
  },
  {
   "cell_type": "code",
   "execution_count": 4,
   "metadata": {},
   "outputs": [
    {
     "data": {
      "text/plain": [
       "0.26666666666666666"
      ]
     },
     "execution_count": 4,
     "metadata": {},
     "output_type": "execute_result"
    }
   ],
   "source": [
    "((1/(4+1 ))+ (1/(2+1)))/2"
   ]
  }
 ],
 "metadata": {
  "kernelspec": {
   "display_name": "Python 3.7.3 64-bit",
   "language": "python",
   "name": "python37364bit07620f78a0b641f5b9bd4d2ec2b4fa39"
  },
  "language_info": {
   "codemirror_mode": {
    "name": "ipython",
    "version": 3
   },
   "file_extension": ".py",
   "mimetype": "text/x-python",
   "name": "python",
   "nbconvert_exporter": "python",
   "pygments_lexer": "ipython3",
   "version": "3.7.3"
  },
  "toc": {
   "base_numbering": 1,
   "nav_menu": {},
   "number_sections": true,
   "sideBar": true,
   "skip_h1_title": false,
   "title_cell": "Table of Contents",
   "title_sidebar": "Contents",
   "toc_cell": false,
   "toc_position": {},
   "toc_section_display": true,
   "toc_window_display": false
  }
 },
 "nbformat": 4,
 "nbformat_minor": 2
}
